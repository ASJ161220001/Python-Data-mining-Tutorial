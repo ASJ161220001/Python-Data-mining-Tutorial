{
 "cells": [
  {
   "cell_type": "markdown",
   "metadata": {},
   "source": [
    "# 数值类变量"
   ]
  },
  {
   "cell_type": "markdown",
   "metadata": {},
   "source": [
    "## 布尔变量(bool)\n",
    "布尔变量(bool)是整数型变量(int)的子类。当整数型变量的值为0时，布尔变量的值为False；当整数型变量的值非0时，布尔变量的值为True。"
   ]
  },
  {
   "cell_type": "markdown",
   "metadata": {},
   "source": [
    "### 赋值方法\n",
    "布尔变量可以直接用常量赋值构建(1-2)，也可以使用bool()函数构建(3-7)；此外，条件语句的返回结果也是布尔变量(8)。"
   ]
  },
  {
   "cell_type": "code",
   "execution_count": 1,
   "metadata": {
    "ExecuteTime": {
     "end_time": "2020-04-25T09:41:05.326340Z",
     "start_time": "2020-04-25T09:41:05.316367Z"
    }
   },
   "outputs": [],
   "source": [
    "var_1 = True\n",
    "var_2 = False\n",
    "var_3 = bool(True)\n",
    "var_4 = bool(False)\n",
    "var_5 = bool(0)\n",
    "var_6 = bool(1)\n",
    "var_7 = bool(2)\n",
    "var_8 = 30>30\n",
    "print(var_1, var_2, var_3, var_4, var_5, var_6, var_7, var_8)"
   ]
  },
  {
   "cell_type": "markdown",
   "metadata": {},
   "source": [
    "### 基础运算\n",
    "布尔变量在执行减加乘除等数值运算时，就是整数0和1的运算。"
   ]
  },
  {
   "cell_type": "code",
   "execution_count": 2,
   "metadata": {
    "ExecuteTime": {
     "end_time": "2020-04-25T09:41:05.334319Z",
     "start_time": "2020-04-25T09:41:05.328335Z"
    }
   },
   "outputs": [],
   "source": [
    "var_1 = True\n",
    "var_2 = False\n",
    "print(var_1 and var_2)\n",
    "print(var_1 or var_2)\n",
    "print(var_1 and not var_2)\n",
    "print(var_1 or not var_2)\n",
    "print(\"True+1\", \":\", var_1 + 1)\n",
    "print(\"True-1\", \":\", var_1 - 1)\n",
    "print(\"True*2\", \":\", var_1 * 2)\n",
    "print(\"True/2\", \":\", var_1 / 2)"
   ]
  },
  {
   "cell_type": "markdown",
   "metadata": {},
   "source": [
    "## 整数变量(int)、浮点数变量(float)\n",
    "在Python3以后，长整型(long)被移除，使用int代替 "
   ]
  },
  {
   "cell_type": "markdown",
   "metadata": {},
   "source": [
    "### 赋值方法"
   ]
  },
  {
   "cell_type": "code",
   "execution_count": 3,
   "metadata": {
    "ExecuteTime": {
     "end_time": "2020-04-25T09:41:05.343308Z",
     "start_time": "2020-04-25T09:41:05.337311Z"
    }
   },
   "outputs": [],
   "source": [
    "# 整数变量\n",
    "var_1 = 3\n",
    "var_2 = int(3.1415926)\n",
    "# 浮点数变量\n",
    "var_3 = 3.1415926\n",
    "var_4 = float(3)\n",
    "print(var_1, var_2, var_3, var_4)"
   ]
  },
  {
   "cell_type": "markdown",
   "metadata": {},
   "source": [
    "### 基础运算"
   ]
  },
  {
   "cell_type": "code",
   "execution_count": 4,
   "metadata": {
    "ExecuteTime": {
     "end_time": "2020-04-25T09:41:05.352271Z",
     "start_time": "2020-04-25T09:41:05.345289Z"
    }
   },
   "outputs": [],
   "source": [
    "var_1 = 10\n",
    "var_2 = 3\n",
    "print(\"10+3\", \":\", var_1 + var_2)\n",
    "print(\"10-3\", \":\", var_1 - var_2)\n",
    "print(\"10*3\", \":\", var_1 * var_2)\n",
    "print(\"10/3\", \":\", var_1 / var_2)\n",
    "print(\"10^3\", \":\", var_1 ** var_2)\n",
    "print(\"10/3取模\", \":\", var_1 // var_2)\n",
    "print(\"10/3取余\", \":\", var_1 % var_2)"
   ]
  },
  {
   "cell_type": "markdown",
   "metadata": {},
   "source": [
    "## 复数变量(complex)"
   ]
  },
  {
   "cell_type": "markdown",
   "metadata": {},
   "source": [
    "### 赋值方法"
   ]
  },
  {
   "cell_type": "code",
   "execution_count": 5,
   "metadata": {
    "ExecuteTime": {
     "end_time": "2020-04-25T09:41:05.360260Z",
     "start_time": "2020-04-25T09:41:05.354267Z"
    }
   },
   "outputs": [],
   "source": [
    "var_1 = complex(2)\n",
    "var_2 = complex(2,1)\n",
    "var_3 = complex(\"2\")\n",
    "var_4 = complex(\"2+1j\")\n",
    "print(var_1, var_2, var_3, var_4)"
   ]
  },
  {
   "cell_type": "markdown",
   "metadata": {},
   "source": [
    "### 基础运算"
   ]
  },
  {
   "cell_type": "code",
   "execution_count": 6,
   "metadata": {
    "ExecuteTime": {
     "end_time": "2020-04-25T09:41:05.367232Z",
     "start_time": "2020-04-25T09:41:05.361246Z"
    }
   },
   "outputs": [],
   "source": [
    "var_1 = complex(2,1)\n",
    "var_2 = complex(1,-2)\n",
    "print(var_1 + var_2)\n",
    "print(var_1 - var_2)\n",
    "print(var_1 * var_2)\n",
    "print(var_1 / var_2)"
   ]
  },
  {
   "cell_type": "markdown",
   "metadata": {
    "ExecuteTime": {
     "end_time": "2020-04-25T02:01:45.045011Z",
     "start_time": "2020-04-25T02:01:45.040032Z"
    }
   },
   "source": [
    "# 序列类变量"
   ]
  },
  {
   "cell_type": "markdown",
   "metadata": {
    "ExecuteTime": {
     "end_time": "2020-04-25T05:14:45.134566Z",
     "start_time": "2020-04-25T05:14:45.130575Z"
    }
   },
   "source": [
    "## 字节变量(bytes)\n",
    "字节变量(bytes)是不可变的字节序列，对它的任何操作都不会改变它自身；字节变量在很多方法上与字符串(str)十分相似。"
   ]
  },
  {
   "cell_type": "code",
   "execution_count": 7,
   "metadata": {
    "ExecuteTime": {
     "end_time": "2020-04-25T09:41:05.375210Z",
     "start_time": "2020-04-25T09:41:05.369227Z"
    }
   },
   "outputs": [],
   "source": [
    "var_1 = b\"hello\"\n",
    "var_2 = bytes(b\"hello\")\n",
    "print(var_1, var_2)"
   ]
  },
  {
   "cell_type": "markdown",
   "metadata": {},
   "source": [
    "## 字节数组(bytearray)\n",
    "字节数组(bytearray)是可变的字节序列，既拥有部分字节变量的操作方法，可以像字符串一样被操作；也拥有一部分列表(list)的操作方法，可以像列表一样被操作。"
   ]
  },
  {
   "cell_type": "code",
   "execution_count": 8,
   "metadata": {
    "ExecuteTime": {
     "end_time": "2020-04-25T09:41:05.383189Z",
     "start_time": "2020-04-25T09:41:05.379199Z"
    }
   },
   "outputs": [],
   "source": [
    "var_1 = bytearray(b\"hello\")\n",
    "var_2 = bytearray.fromhex(\"68656c6c6f\") # 十六进制的hello\n",
    "print(var_1, var_1.hex(), var_2)"
   ]
  },
  {
   "cell_type": "markdown",
   "metadata": {
    "ExecuteTime": {
     "end_time": "2020-04-25T05:38:59.468271Z",
     "start_time": "2020-04-25T05:38:59.465279Z"
    }
   },
   "source": [
    "## 字符串(str)\n",
    "字符串(str)是不可变的字符序列，对它的任何操作都北湖汇改变它自身。Python中拥有一系列针对于字符串的操作。"
   ]
  },
  {
   "cell_type": "code",
   "execution_count": 9,
   "metadata": {
    "ExecuteTime": {
     "end_time": "2020-04-25T09:41:05.391168Z",
     "start_time": "2020-04-25T09:41:05.386180Z"
    }
   },
   "outputs": [],
   "source": [
    "var_1 = \"hello\"\n",
    "var_2 = str(\"hello\")\n",
    "print(var_1, var_2)"
   ]
  },
  {
   "cell_type": "markdown",
   "metadata": {},
   "source": [
    "## 列表(list)\n",
    "列表(list)是一个有序的、可重复的、每个元素均可以被修改的元素序列，列表中的每一个元素都分配了一个索引。"
   ]
  },
  {
   "cell_type": "code",
   "execution_count": 10,
   "metadata": {
    "ExecuteTime": {
     "end_time": "2020-04-25T09:41:05.401140Z",
     "start_time": "2020-04-25T09:41:05.392165Z"
    }
   },
   "outputs": [],
   "source": [
    "var_1 = [\"h\", \"e\", \"l\", \"l\", \"o\", 3, 3.1415926]\n",
    "print(var_1)\n",
    "print(var_1[0])\n",
    "print(var_1[3:5])"
   ]
  },
  {
   "cell_type": "markdown",
   "metadata": {},
   "source": [
    "## 元组(tuple)\n",
    "元组(tuple)是一个有序的、可重复的、每个元素均不能被修改的元素序列；与列表(list)类似，为每一个元素都分配了一个索引。与列表不同的是，元组中的元素不能被修改。"
   ]
  },
  {
   "cell_type": "code",
   "execution_count": 11,
   "metadata": {
    "ExecuteTime": {
     "end_time": "2020-04-25T09:41:05.410116Z",
     "start_time": "2020-04-25T09:41:05.403135Z"
    }
   },
   "outputs": [],
   "source": [
    "var_1 = (\"h\", \"e\", \"l\", \"l\", \"o\", 3, 3.1415926)\n",
    "print(var_1)\n",
    "print(var_1[0])\n",
    "print(var_1[3:5])"
   ]
  },
  {
   "cell_type": "markdown",
   "metadata": {},
   "source": [
    "# 容器类变量"
   ]
  },
  {
   "cell_type": "markdown",
   "metadata": {},
   "source": [
    "## 集合(set)\n",
    "集合(set)是一个无序的、不重复的元素序列。"
   ]
  },
  {
   "cell_type": "code",
   "execution_count": 12,
   "metadata": {
    "ExecuteTime": {
     "end_time": "2020-04-25T09:41:05.418094Z",
     "start_time": "2020-04-25T09:41:05.413112Z"
    }
   },
   "outputs": [],
   "source": [
    "var_1 = {\"h\", \"e\", \"l\", \"l\", \"o\"}\n",
    "var_2 = set(\"hello\")\n",
    "print(var_1, var_2)"
   ]
  },
  {
   "cell_type": "markdown",
   "metadata": {},
   "source": [
    "## 字典(dict)\n",
    "字典(dict)是一种可变的容器模型，使用对象(object)和数组(array)两种结构来组合成复杂的数据结构。其中对象是一个无序的“键值对”集合，键必须是唯一的，但是值不一定是唯一的；数组是值的有序集合，即列表(list)。"
   ]
  },
  {
   "cell_type": "code",
   "execution_count": 13,
   "metadata": {
    "ExecuteTime": {
     "end_time": "2020-04-25T09:41:05.426084Z",
     "start_time": "2020-04-25T09:41:05.420089Z"
    }
   },
   "outputs": [],
   "source": [
    "var_1 = {\"hello\": [\"h\", \"e\", \"l\", \"l\", \"o\"], \"circle\": 3.1415926}\n",
    "print(var_1)"
   ]
  }
 ],
 "metadata": {
  "kernelspec": {
   "display_name": "Python 3",
   "language": "python",
   "name": "python3"
  },
  "language_info": {
   "codemirror_mode": {
    "name": "ipython",
    "version": 3
   },
   "file_extension": ".py",
   "mimetype": "text/x-python",
   "name": "python",
   "nbconvert_exporter": "python",
   "pygments_lexer": "ipython3",
   "version": "3.8.2"
  },
  "varInspector": {
   "cols": {
    "lenName": 16,
    "lenType": 16,
    "lenVar": 40
   },
   "kernels_config": {
    "python": {
     "delete_cmd_postfix": "",
     "delete_cmd_prefix": "del ",
     "library": "var_list.py",
     "varRefreshCmd": "print(var_dic_list())"
    },
    "r": {
     "delete_cmd_postfix": ") ",
     "delete_cmd_prefix": "rm(",
     "library": "var_list.r",
     "varRefreshCmd": "cat(var_dic_list()) "
    }
   },
   "types_to_exclude": [
    "module",
    "function",
    "builtin_function_or_method",
    "instance",
    "_Feature"
   ],
   "window_display": false
  }
 },
 "nbformat": 4,
 "nbformat_minor": 4
}
